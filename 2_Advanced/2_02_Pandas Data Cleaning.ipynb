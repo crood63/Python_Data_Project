{
 "cells": [
  {
   "cell_type": "markdown",
   "id": "50249611",
   "metadata": {},
   "source": [
    "<a target=\"_blank\" href=\"https://colab.research.google.com/github/lukebarousse/Python_Data_Analytics_Course/blob/main/4_Problems/2_02_Pandas Data Cleaning.ipynb\">\n",
    "  <img src=\"https://colab.research.google.com/assets/colab-badge.svg\" alt=\"Open In Colab\"/>\n",
    "</a>"
   ]
  },
  {
   "cell_type": "code",
   "execution_count": 2,
   "id": "f0929e6d",
   "metadata": {},
   "outputs": [],
   "source": [
    "# Importing Libraries\n",
    "import pandas as pd\n",
    "from datasets import load_dataset\n",
    "import matplotlib.pyplot as plt  \n",
    "\n",
    "# Loading Data\n",
    "dataset = load_dataset('lukebarousse/data_jobs')\n",
    "df = dataset['train'].to_pandas()\n",
    "\n",
    "# Data Cleanup\n",
    "df['job_posted_date'] = pd.to_datetime(df['job_posted_date'])"
   ]
  },
  {
   "cell_type": "markdown",
   "id": "7e5d8211",
   "metadata": {},
   "source": [
    "## 🟩 Remove Rows with Missing Values (2.2.1)"
   ]
  },
  {
   "cell_type": "code",
   "execution_count": 3,
   "id": "4b8bc3c2",
   "metadata": {},
   "outputs": [
    {
     "data": {
      "text/plain": [
       "job_title_short          29346\n",
       "job_title                29346\n",
       "job_location             29346\n",
       "job_via                  29346\n",
       "job_schedule_type        29346\n",
       "job_work_from_home       29346\n",
       "search_location          29346\n",
       "job_posted_date          29346\n",
       "job_no_degree_mention    29346\n",
       "job_health_insurance     29346\n",
       "job_country              29346\n",
       "salary_rate              29346\n",
       "salary_year_avg          19908\n",
       "salary_hour_avg           9097\n",
       "company_name             29346\n",
       "job_skills               29346\n",
       "job_type_skills          29346\n",
       "dtype: int64"
      ]
     },
     "execution_count": 3,
     "metadata": {},
     "output_type": "execute_result"
    }
   ],
   "source": [
    "df = df.dropna(subset=['salary_rate', 'job_skills', 'job_location', 'job_schedule_type', 'job_via'])\n",
    "df.count()"
   ]
  },
  {
   "cell_type": "markdown",
   "id": "a148127f",
   "metadata": {},
   "source": [
    "---"
   ]
  },
  {
   "cell_type": "markdown",
   "id": "eaf03dda",
   "metadata": {},
   "source": [
    "## 🟨 Remove Duplicate Rows (2.2.2)"
   ]
  },
  {
   "cell_type": "code",
   "execution_count": 4,
   "id": "ae6ad853",
   "metadata": {},
   "outputs": [],
   "source": [
    "df = df.drop_duplicates()"
   ]
  },
  {
   "cell_type": "markdown",
   "id": "472bfc70",
   "metadata": {},
   "source": [
    "---"
   ]
  },
  {
   "cell_type": "markdown",
   "id": "e26a84d6",
   "metadata": {},
   "source": [
    "## 🟨 Fill Missing Values in Column (2.2.3)"
   ]
  },
  {
   "cell_type": "code",
   "execution_count": 5,
   "id": "b96b4fe1",
   "metadata": {},
   "outputs": [],
   "source": [
    "yearly_med = df['salary_year_avg'].median()\n",
    "hourly_med = df['salary_hour_avg'].median()\n",
    "\n",
    "df['salary_year_avg'] = df['salary_year_avg'].fillna(yearly_med)\n",
    "df['salary_hour_avg'] = df['salary_hour_avg'].fillna(hourly_med)"
   ]
  },
  {
   "cell_type": "markdown",
   "id": "4ab1c267",
   "metadata": {},
   "source": [
    "---"
   ]
  }
 ],
 "metadata": {
  "kernelspec": {
   "display_name": "python_course",
   "language": "python",
   "name": "python3"
  },
  "language_info": {
   "codemirror_mode": {
    "name": "ipython",
    "version": 3
   },
   "file_extension": ".py",
   "mimetype": "text/x-python",
   "name": "python",
   "nbconvert_exporter": "python",
   "pygments_lexer": "ipython3",
   "version": "3.11.13"
  }
 },
 "nbformat": 4,
 "nbformat_minor": 5
}
