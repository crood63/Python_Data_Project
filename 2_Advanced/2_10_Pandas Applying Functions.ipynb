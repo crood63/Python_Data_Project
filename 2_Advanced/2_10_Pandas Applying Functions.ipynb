{
 "cells": [
  {
   "cell_type": "markdown",
   "id": "a11b57f7",
   "metadata": {},
   "source": [
    "<a target=\"_blank\" href=\"https://colab.research.google.com/github/lukebarousse/Python_Data_Analytics_Course/blob/main/4_Problems/2_10_Pandas Applying Functions.ipynb\">\n",
    "  <img src=\"https://colab.research.google.com/assets/colab-badge.svg\" alt=\"Open In Colab\"/>\n",
    "</a>"
   ]
  },
  {
   "cell_type": "code",
   "execution_count": 12,
   "id": "5ae69c80",
   "metadata": {},
   "outputs": [],
   "source": [
    "# Importing Libraries\n",
    "import pandas as pd\n",
    "from datasets import load_dataset\n",
    "import matplotlib.pyplot as plt\n",
    "from datetime import date\n",
    "\n",
    "# Loading Data\n",
    "dataset = load_dataset('lukebarousse/data_jobs')\n",
    "df = dataset['train'].to_pandas()\n",
    "\n",
    "# Data Cleanup\n",
    "df['job_posted_date'] = pd.to_datetime(df['job_posted_date'])"
   ]
  },
  {
   "cell_type": "markdown",
   "id": "3510f08a",
   "metadata": {},
   "source": [
    "## 🟩 Convert Date to String (2.10.1)"
   ]
  },
  {
   "cell_type": "code",
   "execution_count": 11,
   "id": "83f9136e",
   "metadata": {},
   "outputs": [
    {
     "data": {
      "text/plain": [
       "str"
      ]
     },
     "execution_count": 11,
     "metadata": {},
     "output_type": "execute_result"
    }
   ],
   "source": [
    "date_string_df = df.copy()\n",
    "\n",
    "date_string_df['job_posted_date'] = date_string_df['job_posted_date'].apply(lambda date_string: str(date_string))\n",
    "\n",
    "type(date_string_df['job_posted_date'][0])"
   ]
  },
  {
   "cell_type": "markdown",
   "id": "e7796378",
   "metadata": {},
   "source": [
    "---"
   ]
  },
  {
   "cell_type": "markdown",
   "id": "46bac43e",
   "metadata": {},
   "source": [
    "## 🟨 Days Since Posted (2.10.2)"
   ]
  },
  {
   "cell_type": "code",
   "execution_count": 20,
   "id": "730e04c1",
   "metadata": {},
   "outputs": [
    {
     "data": {
      "text/plain": [
       "0        758 days 22:41:29.314120\n",
       "1        911 days 23:07:37.314120\n",
       "2        642 days 23:10:49.314120\n",
       "3        740 days 23:24:03.314120\n",
       "4        706 days 21:56:08.314120\n",
       "                   ...           \n",
       "785736   854 days 06:09:28.314120\n",
       "785737   855 days 06:07:26.314120\n",
       "785738   855 days 05:53:08.314120\n",
       "785739   855 days 05:53:29.314120\n",
       "785740   854 days 06:09:13.314120\n",
       "Name: days_since_posted, Length: 785741, dtype: timedelta64[ns]"
      ]
     },
     "execution_count": 20,
     "metadata": {},
     "output_type": "execute_result"
    }
   ],
   "source": [
    "day_since_post_df = df.copy()\n",
    "date_today = pd.to_datetime('today')\n",
    "days_since_post_df = df.copy()\n",
    "\n",
    "days_since_post_df['days_since_posted'] = days_since_post_df['job_posted_date'].apply(lambda posted_date: date_today - posted_date)\n",
    "days_since_post_df['days_since_posted']"
   ]
  },
  {
   "cell_type": "markdown",
   "id": "fd9245ae",
   "metadata": {},
   "source": [
    "---"
   ]
  },
  {
   "cell_type": "markdown",
   "id": "f4317b30",
   "metadata": {},
   "source": [
    "## 🟥 Salary Category (2.10.3)"
   ]
  },
  {
   "cell_type": "code",
   "execution_count": null,
   "id": "56638d70",
   "metadata": {},
   "outputs": [
    {
     "data": {
      "text/plain": [
       "0         Makes slightly less\n",
       "1         Makes slightly less\n",
       "2         Makes slightly less\n",
       "3         Makes slightly less\n",
       "4         Makes slightly less\n",
       "                 ...         \n",
       "785736    Makes slightly less\n",
       "785737    Makes slightly less\n",
       "785738    Makes slightly less\n",
       "785739    Makes slightly less\n",
       "785740    Makes slightly less\n",
       "Name: salary_category, Length: 785741, dtype: object"
      ]
     },
     "execution_count": 21,
     "metadata": {},
     "output_type": "execute_result"
    }
   ],
   "source": [
    "salary_cat_df = df.copy()\n",
    "\n",
    "def salary_category(year_salary):\n",
    "  if year_salary >= 100000:\n",
    "    return 'Makes a lot' \n",
    "  \n",
    "  else:\n",
    "    return 'Makes slightly less'\n",
    "\n",
    "salary_cat_df['salary_category'] = salary_cat_df['salary_year_avg'].apply(salary_category)\n",
    "salary_cat_df['salary_category']"
   ]
  },
  {
   "cell_type": "markdown",
   "id": "9b0f74eb",
   "metadata": {},
   "source": [
    "---"
   ]
  }
 ],
 "metadata": {
  "kernelspec": {
   "display_name": "python_course",
   "language": "python",
   "name": "python3"
  },
  "language_info": {
   "codemirror_mode": {
    "name": "ipython",
    "version": 3
   },
   "file_extension": ".py",
   "mimetype": "text/x-python",
   "name": "python",
   "nbconvert_exporter": "python",
   "pygments_lexer": "ipython3",
   "version": "3.11.13"
  }
 },
 "nbformat": 4,
 "nbformat_minor": 5
}
